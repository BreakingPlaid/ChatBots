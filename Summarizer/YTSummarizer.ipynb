{
 "cells": [
  {
   "cell_type": "code",
   "execution_count": null,
   "id": "8c7564bd-41dc-496d-b1ba-fb4f359f41de",
   "metadata": {
    "tags": []
   },
   "outputs": [
    {
     "name": "stdout",
     "output_type": "stream",
     "text": [
      "Requirement already satisfied: youtube_transcript_api in c:\\users\\jonny\\anaconda3\\lib\\site-packages (0.6.2)\n",
      "Requirement already satisfied: requests in c:\\users\\jonny\\anaconda3\\lib\\site-packages (from youtube_transcript_api) (2.31.0)\n",
      "Requirement already satisfied: charset-normalizer<4,>=2 in c:\\users\\jonny\\anaconda3\\lib\\site-packages (from requests->youtube_transcript_api) (2.0.4)\n",
      "Requirement already satisfied: idna<4,>=2.5 in c:\\users\\jonny\\anaconda3\\lib\\site-packages (from requests->youtube_transcript_api) (3.4)\n",
      "Requirement already satisfied: urllib3<3,>=1.21.1 in c:\\users\\jonny\\anaconda3\\lib\\site-packages (from requests->youtube_transcript_api) (1.26.16)\n",
      "Requirement already satisfied: certifi>=2017.4.17 in c:\\users\\jonny\\anaconda3\\lib\\site-packages (from requests->youtube_transcript_api) (2023.7.22)\n",
      "Requirement already satisfied: pytube in c:\\users\\jonny\\anaconda3\\lib\\site-packages (15.0.0)\n"
     ]
    }
   ],
   "source": [
    "!pip install --upgrade --quiet langchain\n",
    "!pip install --quiet langchain-community\n",
    "!pip install --upgrade --quiet langchain-together\n",
    "!pip install youtube_transcript_api\n",
    "!pip install pytube\n",
    "!pip install dotenv"
   ]
  },
  {
   "cell_type": "code",
   "execution_count": null,
   "id": "67cd206b-6897-4f0e-aa97-134600795930",
   "metadata": {
    "tags": []
   },
   "outputs": [
    {
     "ename": "NameError",
     "evalue": "name 'api_key' is not defined",
     "output_type": "error",
     "traceback": [
      "\u001b[1;31m---------------------------------------------------------------------------\u001b[0m",
      "\u001b[1;31mNameError\u001b[0m                                 Traceback (most recent call last)",
      "Cell \u001b[1;32mIn[7], line 7\u001b[0m\n\u001b[0;32m      4\u001b[0m \u001b[38;5;28;01mfrom\u001b[39;00m \u001b[38;5;21;01mlangchain_together\u001b[39;00m \u001b[38;5;28;01mimport\u001b[39;00m ChatTogether\n\u001b[0;32m      5\u001b[0m \u001b[38;5;66;03m## load the environment variables\u001b[39;00m\n\u001b[1;32m----> 7\u001b[0m llm \u001b[38;5;241m=\u001b[39m ChatTogether(api_key\u001b[38;5;241m=\u001b[39mos\u001b[38;5;241m.\u001b[39mgetenv(api_key\u001b[38;5;241m.\u001b[39mapi),temperature\u001b[38;5;241m=\u001b[39m\u001b[38;5;241m0.0\u001b[39m, \n\u001b[0;32m      8\u001b[0m                    model\u001b[38;5;241m=\u001b[39m\u001b[38;5;124m\"\u001b[39m\u001b[38;5;124mmeta-llama/Meta-Llama-3.1-8B-Instruct-Turbo\u001b[39m\u001b[38;5;124m\"\u001b[39m)\n",
      "\u001b[1;31mNameError\u001b[0m: name 'api_key' is not defined"
     ]
    }
   ],
   "source": [
    "## setting up the language model\n",
    "import os\n",
    "from dotenv import load_dotenv \n",
    "from langchain_together import ChatTogether\n",
    "## load the environment variables\n",
    "\n",
    "load_dotenv()\n",
    "\n",
    "# Ensures API key is read\n",
    "print(\"API Key:\", os.getenv(\"OPENAI_API_KEY\"))\n",
    "\n",
    "llm = ChatTogether(api_key=os.getenv(\"OPENAI_API_KEY\"),temperature=0.0, \n",
    "                   model=\"meta-llama/Meta-Llama-3.1-8B-Instruct-Turbo\")"
   ]
  },
  {
   "cell_type": "code",
   "execution_count": null,
   "id": "6b8e17e6-e58e-4f4e-9006-3189fbda896c",
   "metadata": {},
   "outputs": [],
   "source": []
  }
 ],
 "metadata": {
  "kernelspec": {
   "display_name": "Python 3 (ipykernel)",
   "language": "python",
   "name": "python3"
  },
  "language_info": {
   "codemirror_mode": {
    "name": "ipython",
    "version": 3
   },
   "file_extension": ".py",
   "mimetype": "text/x-python",
   "name": "python",
   "nbconvert_exporter": "python",
   "pygments_lexer": "ipython3",
   "version": "3.11.4"
  }
 },
 "nbformat": 4,
 "nbformat_minor": 5
}
